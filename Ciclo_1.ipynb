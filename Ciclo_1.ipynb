{
  "cells": [
    {
      "cell_type": "code",
      "execution_count": 9,
      "metadata": {
        "colab": {
          "base_uri": "https://localhost:8080/"
        },
        "id": "4x4k7JwADcBz",
        "outputId": "3521da56-4cf9-4b55-8ea7-e6f276758680"
      },
      "outputs": [
        {
          "output_type": "stream",
          "name": "stdout",
          "text": [
            "Drive already mounted at /content/drive; to attempt to forcibly remount, call drive.mount(\"/content/drive\", force_remount=True).\n"
          ]
        }
      ],
      "source": [
        "#Montar drive para leer archivos\n",
        "from google.colab import drive\n",
        "drive.mount('/content/drive')"
      ]
    },
    {
      "cell_type": "code",
      "execution_count": 85,
      "metadata": {
        "id": "Wyuq00gVuLs8"
      },
      "outputs": [],
      "source": [
        "#Leer archivos csv desde el drive\n",
        "import numpy as np\n",
        "import pandas as pd\n",
        "\n",
        "#Leer archivos csv desde el drive\n",
        "olist_orders_dataset= pd.read_csv \\\n",
        " (\"/content/drive/MyDrive/Recursos DN_COM_58/olist_orders_dataset.csv\", parse_dates=[\"order_purchase_timestamp\", \\\n",
        " \"order_approved_at\", \"order_delivered_carrier_date\", \"order_delivered_customer_date\", \"order_estimated_delivery_date\"])\n",
        "olist_customers_dataset= pd.read_excel \\\n",
        " (\"/content/drive/MyDrive/Recursos DN_COM_58/olist_customers_dataset.xlsx\")\n",
        "brasil_regions= pd.read_csv \\\n",
        " (\"/content/drive/MyDrive/Recursos DN_COM_58/brasil_regions.csv\")\n",
        "olist_geolocation_dataset= pd.read_csv \\\n",
        " (\"/content/drive/MyDrive/Recursos DN_COM_58/olist_geolocation_dataset.csv\")\n",
        "olist_order_items_dataset= pd.read_csv \\\n",
        " (\"/content/drive/MyDrive/Recursos DN_COM_58/olist_order_items_dataset.csv\", parse_dates=[\"shipping_limit_date\"])\n",
        "olist_order_payments_dataset= pd.read_csv \\\n",
        " (\"/content/drive/MyDrive/Recursos DN_COM_58/olist_order_payments_dataset.csv\")\n",
        "\n",
        "#Consolidar olist_geolocation_dataset y brasil_regions\n",
        "df0= olist_geolocation_dataset.merge(brasil_regions, how=\"left\", left_on=\"geolocation_state\", right_on=\"abbreviation\")\n",
        "df0= df0[[\"geolocation_zip_code_prefix\", \"geolocation_lat\", \"geolocation_lng\", \"state_name\", \"region\"]]\n",
        "df0= df0.drop_duplicates(subset=['geolocation_zip_code_prefix'])\n",
        "\n",
        "#Consolidar olist_customers_dataset con df0\n",
        "df1= olist_customers_dataset.merge(df0, how=\"left\", left_on=\"customer_zip_code_prefix\", right_on=\"geolocation_zip_code_prefix\")\n",
        "df1= df1.drop(['customer_unique_id'], axis=1)\n",
        "\n",
        "#Resumir reporte olist_order_items_dataset\n",
        "df2 = pd.pivot_table(olist_order_items_dataset,index=['order_id'],aggfunc={'order_item_id':np.max, 'freight_value':np.sum,'price':np.sum})\n",
        "df2.reset_index(drop= False, inplace= True)\n",
        "\n",
        "#Consolidar olist_orders_dataset y df1\n",
        "df3= pd.merge(olist_orders_dataset, df1, on=[\"customer_id\"])\n",
        "\n",
        "#Consolidado completo (df2 y df3)\n",
        "consolidado= pd.merge(df3, df2, on=[\"order_id\"], how=\"left\")\n"
      ]
    },
    {
      "cell_type": "code",
      "source": [
        "#Importar reporte a un archivo excel\n",
        "import pandas as pd\n",
        "with pd.ExcelWriter(\"/content/drive/MyDrive/Recursos DN_COM_58/RETO/consolidado.xlsx\") as writer:\n",
        "    consolidado.to_excel(writer, sheet_name=\"consolidado\", index=False)\n",
        "    df0.to_excel(writer, sheet_name=\"df0\")\n",
        "    df1.to_excel(writer, sheet_name=\"df1\")\n",
        "    df2.to_excel(writer, sheet_name=\"df2\")\n",
        "    df3.to_excel(writer, sheet_name=\"df3\")"
      ],
      "metadata": {
        "id": "yiI5LmZ3yOKY"
      },
      "execution_count": 90,
      "outputs": []
    }
  ],
  "metadata": {
    "colab": {
      "provenance": []
    },
    "kernelspec": {
      "display_name": "Python 3",
      "name": "python3"
    },
    "language_info": {
      "name": "python"
    }
  },
  "nbformat": 4,
  "nbformat_minor": 0
}